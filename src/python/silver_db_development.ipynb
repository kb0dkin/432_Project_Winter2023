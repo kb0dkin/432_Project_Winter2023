{
 "cells": [
  {
   "cell_type": "code",
   "execution_count": 75,
   "metadata": {},
   "outputs": [],
   "source": [
    "# This will connect to a postgres database using the public IP address of the VM\n",
    "# The bronze tables to create the silver tables\n",
    "\n",
    "import os \n",
    "import sqlalchemy\n",
    "import pandas as pd\n",
    "from shapely.geometry import Point, Polygon\n",
    "import datetime\n",
    "import psycopg2\n",
    "import pandas as pd\n",
    "import geopandas as gpd\n"
   ]
  },
  {
   "cell_type": "code",
   "execution_count": 76,
   "metadata": {},
   "outputs": [],
   "source": [
    "\n",
    "user = 'postgres'\n",
    "password = '432'\n",
    "ip = '34.134.248.227'\n",
    "db_name = 'bronze'\n",
    "port = '5432'\n",
    "\n"
   ]
  },
  {
   "cell_type": "code",
   "execution_count": 77,
   "metadata": {},
   "outputs": [],
   "source": [
    "def get_zip(lat, long):\n",
    "    '''\n",
    "    Gets the zip code comparing the latitude and longitude to the zips.geojson file\n",
    "    \n",
    "    '''\n",
    "    point = Point(long, lat)\n",
    "    for i in range(len(zips)):\n",
    "        if point.within(zips['geometry'][i]):\n",
    "            return zips['zip'][i]\n",
    "        else:\n",
    "            continue\n"
   ]
  },
  {
   "cell_type": "code",
   "execution_count": 78,
   "metadata": {},
   "outputs": [],
   "source": [
    "# connect to database\n",
    "conn = psycopg2.connect(f'host={ip} dbname={db_name} user={user} password={password} port={port}')\n",
    "\n",
    "# select latitude and longitude from the table and run\n",
    "sql = \"SELECT trip_start_timestamp as ride_date, dropoff_centroid_latitude as lat, dropoff_centroid_longitude as long, trip_id FROM taxi_trips;\"\n",
    "df_taxi = pd.read_sql(sql, conn)\n",
    "sql = \"SELECT trip_start_timestamp as ride_date, dropoff_centroid_latitude as lat, dropoff_centroid_longitude as long, trip_id  FROM tnp_trips;\"\n",
    "df_tnp = pd.read_sql(sql,conn)\n",
    "\n",
    "# load zips.geojson file with geopandas\n",
    "zips = gpd.read_file('zips.geojson')\n",
    "\n"
   ]
  },
  {
   "cell_type": "code",
   "execution_count": 79,
   "metadata": {},
   "outputs": [],
   "source": [
    "# Takes the latitude and longitude from df and create a zip code column\n",
    "# Uses reverse_geocoder to find the zip code for each latitude and longitude using the zips.geojson file\n",
    "\n",
    "zip_list = [get_zip(lat_long[1]['lat'],lat_long[1]['long']) for lat_long in df_taxi[['long','lat']].iterrows()]\n",
    "df_taxi['zip'] = zip_list\n",
    "df_taxi['ride_type'] = 'taxi'\n",
    "\n",
    "zip_list = [get_zip(lat_long[1]['lat'],lat_long[1]['long']) for lat_long in df_tnp[['long','lat']].iterrows()]\n",
    "df_tnp['zip'] = zip_list\n",
    "df_tnp['ride_type'] = 'rideshare'\n",
    "\n",
    "# append the datasets\n",
    "df_ride = df_taxi.append(df_tnp, ignore_index=True, sort='ride_date')\n",
    "\n",
    "# get the week number, so we can join on the weekly covid info\n",
    "df_ride['week_number'] = [int(item.strftime(\"%W\")) for item in df_ride['ride_date']]\n",
    "df_ride['year'] = [item.strftime('%Y') for item in df_ride['ride_date']]\n",
    "\n",
    "# df.to_csv('./src/python/df.csv', encoding='utf-8', index=False)"
   ]
  },
  {
   "cell_type": "code",
   "execution_count": 80,
   "metadata": {},
   "outputs": [],
   "source": [
    "# now for the covid data\n",
    "sql_query = '''SELECT zip_code as zip, week_number, cases_weekly, week_start,\n",
    "                case_rate_cumulative, deaths_weekly, death_rate_weekly \n",
    "                from covid_19_zip;'''\n",
    "df_covid_zip = pd.read_sql(sql_query, conn)\n",
    "df_covid_zip.rename(columns={'cases_weekly':'covid_rate'}, inplace=True)\n",
    "df_covid_zip.rename(columns={'death_rate_weekly':'death_rate'}, inplace=True)\n",
    "\n",
    "\n",
    "df_covid_zip['year'] = [item.strftime('%Y') for item in df_covid_zip['week_start']]"
   ]
  },
  {
   "cell_type": "code",
   "execution_count": 83,
   "metadata": {},
   "outputs": [],
   "source": [
    "# and to join on the zip and week_number\n",
    "df_taxi_covid = pd.merge(df_ride, df_covid_zip, how= 'left', on=['year','week_number','zip'])"
   ]
  }
 ],
 "metadata": {
  "kernelspec": {
   "display_name": "MSDS",
   "language": "python",
   "name": "python3"
  },
  "language_info": {
   "codemirror_mode": {
    "name": "ipython",
    "version": 3
   },
   "file_extension": ".py",
   "mimetype": "text/x-python",
   "name": "python",
   "nbconvert_exporter": "python",
   "pygments_lexer": "ipython3",
   "version": "3.9.13"
  },
  "orig_nbformat": 4
 },
 "nbformat": 4,
 "nbformat_minor": 2
}
